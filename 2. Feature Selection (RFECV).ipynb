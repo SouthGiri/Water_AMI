{
 "cells": [
  {
   "cell_type": "markdown",
   "metadata": {},
   "source": [
    "# 2. 특징 선택 (RFECV)"
   ]
  },
  {
   "cell_type": "code",
   "execution_count": null,
   "metadata": {},
   "outputs": [],
   "source": [
    "import numpy as np\n",
    "import pandas as pd\n",
    "from sklearn.feature_selection import RFECV\n",
    "from sklearn.preprocessing import scale\n",
    "from sklearn.ensemble import RandomForestClassifier\n",
    "import matplotlib.pyplot as plt"
   ]
  },
  {
   "cell_type": "code",
   "execution_count": null,
   "metadata": {},
   "outputs": [],
   "source": [
    "df = pd.read_csv(\"final_data.csv\").iloc[:,1:]\n",
    "abnormal = df[df['label']==1]\n",
    "normal = df[df['label']==0]\n",
    "print(normal.shape)\n",
    "print(abnormal.shape)"
   ]
  },
  {
   "cell_type": "code",
   "execution_count": null,
   "metadata": {},
   "outputs": [],
   "source": [
    "from tqdm import tqdm\n",
    "\n",
    "a = None\n",
    "for i in tqdm(range(200)):\n",
    "  final_data = normal.sample(frac=0.1)\n",
    "  where = final_data.shape[0]\n",
    "\n",
    "  for i in range(20):\n",
    "    final_data = final_data.append(abnormal)\n",
    "\n",
    "  estimator = RandomForestClassifier(50, max_depth = 4)\n",
    "  x = scale(final_data.iloc[:,1:].astype('float64'))\n",
    "  y = final_data.iloc[:,0]\n",
    "\n",
    "  estimator.fit(x, y)\n",
    "  if a is None:\n",
    "    a = estimator.feature_importances_\n",
    "  else:\n",
    "    a += estimator.feature_importances_\n",
    "\n",
    "# feature importance 내림차순 출력\n",
    "sorted = np.argsort(a)[::-1]\n",
    "feature_col = final_data.columns.drop(\"label\")\n",
    "\n",
    "for i in range(len(feature_col)):\n",
    "  print(feature_col[sorted[i]], \":\", a[sorted[i]]/200)"
   ]
  },
  {
   "cell_type": "markdown",
   "metadata": {},
   "source": [
    "- 최적의 특징 개수 구하기"
   ]
  },
  {
   "cell_type": "code",
   "execution_count": null,
   "metadata": {},
   "outputs": [],
   "source": [
    "# RFECV\n",
    "np.random.seed(777)\n",
    "\n",
    "final_data = normal.sample(frac=0.1)\n",
    "where = final_data.shape[0]\n",
    "for i in range(25):\n",
    "  final_data = final_data.append(abnormal)\n",
    "\n",
    "\n",
    "estimator = RandomForestClassifier(50, max_depth = 4)\n",
    "selector = RFECV(estimator, min_features_to_select = 2, cv = 2)\n",
    "\n",
    "\n",
    "x = scale(final_data.iloc[:,1:].astype('float64'))\n",
    "y = final_data.iloc[:,0]\n",
    "\n",
    "selector.fit(x, y)"
   ]
  },
  {
   "cell_type": "code",
   "execution_count": null,
   "metadata": {},
   "outputs": [],
   "source": [
    "# 최적의 특징 개수 찾기\n",
    "\n",
    "print(\"optimal number of features:\", selector.n_features_)\n",
    "\n",
    "# cv 개수 = grid_score 의 열 수\n",
    "# grid_score 의 열 의미 : 각 subset의 valdation score\n",
    "mean_grid_scores = np.mean(selector.grid_scores_, axis=1)\n",
    "\n",
    "plt.figure(figsize=[12, 8])\n",
    "plt.plot(range(2,2+len(mean_grid_scores)), mean_grid_scores,\n",
    "                        lw=4, marker='o', ms=18, color=\"red\", mfc='red')\n",
    "\n",
    "# 그래프 y축 제한 범위\n",
    "# grid_score : 모델 성능\n",
    "plt.ylim([min(mean_grid_scores)*0.9999, max(mean_grid_scores)*1.0001])\n",
    "plt.ylabel(\"Cross Validation Score\",\n",
    "           size=40)\n",
    "plt.xlabel(\"Number of Features\", \n",
    "           size=40)\n",
    "plt.yticks(size=25)\n",
    "plt.xticks([5, 10, 15, 20],\n",
    "           size=25)\n",
    "plt.gca().spines['right'].set_visible(False)\n",
    "plt.gca().spines['top'].set_visible(False)\n",
    "plt.grid()\n",
    "plt.tight_layout()\n",
    "plt.savefig(\"RFECV_Num_of_Features_Selection.png\")"
   ]
  }
 ],
 "metadata": {
  "language_info": {
   "name": "python"
  },
  "orig_nbformat": 4
 },
 "nbformat": 4,
 "nbformat_minor": 2
}
